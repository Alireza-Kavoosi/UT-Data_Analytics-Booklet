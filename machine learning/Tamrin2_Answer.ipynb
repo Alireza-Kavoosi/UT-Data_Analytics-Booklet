{
  "nbformat": 4,
  "nbformat_minor": 0,
  "metadata": {
    "colab": {
      "provenance": []
    },
    "kernelspec": {
      "name": "python3",
      "display_name": "Python 3"
    },
    "language_info": {
      "name": "python"
    }
  },
  "cells": [
    {
      "cell_type": "markdown",
      "source": [
        "**Answer_1**"
      ],
      "metadata": {
        "id": "-TDPolnlYC0M"
      }
    },
    {
      "cell_type": "code",
      "execution_count": null,
      "metadata": {
        "id": "KCL8hzDKPVIj"
      },
      "outputs": [],
      "source": [
        "class Person:\n",
        "  def __init__(self, name, height, weight):\n",
        "    self.name = name\n",
        "    self.height = height\n",
        "    self.weight = weight\n",
        "\n",
        "\n",
        "  def bmi(self):\n",
        "\n",
        "    return self.weight/((self.height/100)**2)\n"
      ]
    },
    {
      "cell_type": "code",
      "source": [
        "p1=Person('Hooman',180,70)"
      ],
      "metadata": {
        "id": "LXAKDJlhSp6O"
      },
      "execution_count": null,
      "outputs": []
    },
    {
      "cell_type": "code",
      "source": [
        "p1.bmi()"
      ],
      "metadata": {
        "colab": {
          "base_uri": "https://localhost:8080/"
        },
        "id": "qPf7BiBsSv0r",
        "outputId": "3d3bd2f5-f88d-41c6-b106-0e1743f99e6a"
      },
      "execution_count": null,
      "outputs": [
        {
          "output_type": "execute_result",
          "data": {
            "text/plain": [
              "21.604938271604937"
            ]
          },
          "metadata": {},
          "execution_count": 3
        }
      ]
    },
    {
      "cell_type": "markdown",
      "source": [
        "**Answer_2**"
      ],
      "metadata": {
        "id": "lNck5CMHYHdb"
      }
    },
    {
      "cell_type": "code",
      "source": [
        "class LightSwitch:\n",
        "    def __init__(self,status):\n",
        "        self.status = status\n",
        "    def turn_on(self):\n",
        "        self.status = 'on'\n",
        "        return self.status\n",
        "    def turn_off(self):\n",
        "        self.status = 'off'\n",
        "        return self.status\n",
        "    def cur_stat(self):\n",
        "        return self.status"
      ],
      "metadata": {
        "id": "Q6X7_9PnSzlz"
      },
      "execution_count": null,
      "outputs": []
    },
    {
      "cell_type": "code",
      "source": [
        "lamp = LightSwitch('off')"
      ],
      "metadata": {
        "id": "mLyUMvl7TET1"
      },
      "execution_count": null,
      "outputs": []
    },
    {
      "cell_type": "code",
      "source": [
        "lamp.turn_on()"
      ],
      "metadata": {
        "colab": {
          "base_uri": "https://localhost:8080/",
          "height": 36
        },
        "id": "T6BGj0z0TjU_",
        "outputId": "e2c2da77-f3c5-4fb2-977f-6ab34f6b5c6a"
      },
      "execution_count": null,
      "outputs": [
        {
          "output_type": "execute_result",
          "data": {
            "text/plain": [
              "'on'"
            ],
            "application/vnd.google.colaboratory.intrinsic+json": {
              "type": "string"
            }
          },
          "metadata": {},
          "execution_count": 11
        }
      ]
    },
    {
      "cell_type": "code",
      "source": [
        "lamp.turn_off()"
      ],
      "metadata": {
        "colab": {
          "base_uri": "https://localhost:8080/",
          "height": 36
        },
        "id": "pNnGpnS0TkEP",
        "outputId": "00b6a54b-6e79-406b-d4c4-005ee900505d"
      },
      "execution_count": null,
      "outputs": [
        {
          "output_type": "execute_result",
          "data": {
            "text/plain": [
              "'off'"
            ],
            "application/vnd.google.colaboratory.intrinsic+json": {
              "type": "string"
            }
          },
          "metadata": {},
          "execution_count": 12
        }
      ]
    },
    {
      "cell_type": "code",
      "source": [
        "lamp.cur_stat()"
      ],
      "metadata": {
        "colab": {
          "base_uri": "https://localhost:8080/",
          "height": 36
        },
        "id": "8-EOQc61Tmer",
        "outputId": "b540c167-8cd8-45bd-aaf3-76c07f2ed9a8"
      },
      "execution_count": null,
      "outputs": [
        {
          "output_type": "execute_result",
          "data": {
            "text/plain": [
              "'off'"
            ],
            "application/vnd.google.colaboratory.intrinsic+json": {
              "type": "string"
            }
          },
          "metadata": {},
          "execution_count": 13
        }
      ]
    },
    {
      "cell_type": "markdown",
      "source": [
        "**Answer_3**"
      ],
      "metadata": {
        "id": "huCzGxiNYLV2"
      }
    },
    {
      "cell_type": "code",
      "source": [
        "class Employee:\n",
        "    def __init__(self,name,age,work_exp,salary):\n",
        "        self.name = name\n",
        "        self.age = age\n",
        "        self.work_exp = work_exp\n",
        "        self.salary = salary\n",
        "    def get_name(self):\n",
        "        return self.name\n",
        "    def bounes(self):\n",
        "        if self.work_exp < 1:\n",
        "            return 0.05*self.salary\n",
        "        elif self.work_exp < 3:\n",
        "            return 0.2*self.salary\n",
        "        elif self.work_exp < 5:\n",
        "            return 0.35*self.salary\n",
        "        else:\n",
        "            return 0.6*self.salary\n",
        "    def up_exp(self):\n",
        "        self.work_exp += 1.5\n",
        "        return self.work_exp\n",
        "    def get_work_exp(self):\n",
        "        return self.work_exp\n"
      ],
      "metadata": {
        "id": "7aAIyr3iTrep"
      },
      "execution_count": null,
      "outputs": []
    },
    {
      "cell_type": "code",
      "source": [
        "E1=Employee('Hasan',35,2,5000)"
      ],
      "metadata": {
        "id": "4qFdycJWWWk-"
      },
      "execution_count": null,
      "outputs": []
    },
    {
      "cell_type": "code",
      "source": [
        "E1.get_name()"
      ],
      "metadata": {
        "colab": {
          "base_uri": "https://localhost:8080/",
          "height": 36
        },
        "id": "1HAv6GOtWjsG",
        "outputId": "063fef49-95d9-48d5-d694-5b9c2b08cf48"
      },
      "execution_count": null,
      "outputs": [
        {
          "output_type": "execute_result",
          "data": {
            "text/plain": [
              "'Hasan'"
            ],
            "application/vnd.google.colaboratory.intrinsic+json": {
              "type": "string"
            }
          },
          "metadata": {},
          "execution_count": 6
        }
      ]
    },
    {
      "cell_type": "code",
      "source": [
        "E1.bounes()"
      ],
      "metadata": {
        "colab": {
          "base_uri": "https://localhost:8080/"
        },
        "id": "tYNfCtpWW6CX",
        "outputId": "550562b5-3bb7-4ac4-a8e1-fb1ef6093528"
      },
      "execution_count": null,
      "outputs": [
        {
          "output_type": "execute_result",
          "data": {
            "text/plain": [
              "1000.0"
            ]
          },
          "metadata": {},
          "execution_count": 7
        }
      ]
    },
    {
      "cell_type": "code",
      "source": [
        "E1.up_exp()"
      ],
      "metadata": {
        "colab": {
          "base_uri": "https://localhost:8080/"
        },
        "id": "abtciW02W9ZZ",
        "outputId": "804162de-cf40-4a5f-e290-d24ee13d9fd5"
      },
      "execution_count": null,
      "outputs": [
        {
          "output_type": "execute_result",
          "data": {
            "text/plain": [
              "3.5"
            ]
          },
          "metadata": {},
          "execution_count": 8
        }
      ]
    },
    {
      "cell_type": "code",
      "source": [
        "E1.bounes()"
      ],
      "metadata": {
        "colab": {
          "base_uri": "https://localhost:8080/"
        },
        "id": "E-TD6y2uXFf3",
        "outputId": "840a5ae8-8114-4512-c815-5dd1fc10e56a"
      },
      "execution_count": null,
      "outputs": [
        {
          "output_type": "execute_result",
          "data": {
            "text/plain": [
              "1750.0"
            ]
          },
          "metadata": {},
          "execution_count": 9
        }
      ]
    },
    {
      "cell_type": "code",
      "source": [
        "E1.get_work_exp()"
      ],
      "metadata": {
        "colab": {
          "base_uri": "https://localhost:8080/"
        },
        "id": "loTVv2uSXV3g",
        "outputId": "70d8dd23-40d2-4824-90e0-0be31d26c732"
      },
      "execution_count": null,
      "outputs": [
        {
          "output_type": "execute_result",
          "data": {
            "text/plain": [
              "3.5"
            ]
          },
          "metadata": {},
          "execution_count": 10
        }
      ]
    },
    {
      "cell_type": "markdown",
      "source": [
        "**Answer_4**"
      ],
      "metadata": {
        "id": "TOMiXhD2YOX1"
      }
    },
    {
      "cell_type": "code",
      "source": [
        "class Sample():\n",
        "    def __init__(self):\n",
        "        print('Object is constructed')\n",
        "    def __del__(self):\n",
        "        print('Object is destructed!')"
      ],
      "metadata": {
        "id": "KnBM01RuXZ6W"
      },
      "execution_count": null,
      "outputs": []
    },
    {
      "cell_type": "code",
      "source": [
        "s1=Sample()"
      ],
      "metadata": {
        "colab": {
          "base_uri": "https://localhost:8080/"
        },
        "id": "-BVOT_XYX3dZ",
        "outputId": "18fe758d-2d99-4aa4-920a-fe87f800197d"
      },
      "execution_count": null,
      "outputs": [
        {
          "output_type": "stream",
          "name": "stdout",
          "text": [
            "Object is constructed\n"
          ]
        }
      ]
    },
    {
      "cell_type": "code",
      "source": [
        "del s1"
      ],
      "metadata": {
        "colab": {
          "base_uri": "https://localhost:8080/"
        },
        "id": "kt7kX1wJX6Of",
        "outputId": "2f04dd7e-f1ac-41bd-a829-bdfd8e1d95b3"
      },
      "execution_count": null,
      "outputs": [
        {
          "output_type": "stream",
          "name": "stdout",
          "text": [
            "Object is destructed!\n"
          ]
        }
      ]
    },
    {
      "cell_type": "markdown",
      "source": [
        "**Answer_5&6**"
      ],
      "metadata": {
        "id": "n8etSR0CaiNw"
      }
    },
    {
      "cell_type": "code",
      "source": [
        "class Time:\n",
        "    def __init__(self,h,m,s):\n",
        "        if h > 23:\n",
        "            print('Hours can not be more than 23')\n",
        "            del self\n",
        "        elif m > 59:\n",
        "            print('Mintues can not be more than 59')\n",
        "            del self\n",
        "        elif s > 59:\n",
        "            print('Seconds can not be more than 59')\n",
        "            del self\n",
        "        else:\n",
        "            self.h = h\n",
        "            self.m = m\n",
        "            self.s = s\n",
        "    def __str__(self):\n",
        "        return f'{self.h:02d}:{self.m:02d}:{self.s:02d}'\n",
        "    def __add__(self,other):\n",
        "        total_s = self.s + other.s\n",
        "        total_m = self.m + other.m\n",
        "        total_h = self.h + other.h\n",
        "        if total_s > 59:\n",
        "            total_m += total_s//60\n",
        "            total_s = total_s%60\n",
        "        if total_m > 59:\n",
        "            total_h += total_m//60\n",
        "            total_m = total_m%60\n",
        "        if total_h > 23:\n",
        "            total_h=total_h%24\n",
        "        return Time(total_h,total_m,total_s)\n",
        "    def __eq__(self,other):\n",
        "        return self.h == other.h and self.m == other.m and self.s == other.s"
      ],
      "metadata": {
        "id": "Wmt9p6waYBfY"
      },
      "execution_count": null,
      "outputs": []
    },
    {
      "cell_type": "code",
      "source": [
        "t1=Time(13,20,45)"
      ],
      "metadata": {
        "id": "QKpohhiICsG_"
      },
      "execution_count": null,
      "outputs": []
    },
    {
      "cell_type": "code",
      "source": [
        "print(t1)"
      ],
      "metadata": {
        "colab": {
          "base_uri": "https://localhost:8080/"
        },
        "id": "T6P9esptC7HQ",
        "outputId": "0d98f32b-ae8d-4cf3-9e99-c1c77454b7aa"
      },
      "execution_count": null,
      "outputs": [
        {
          "output_type": "stream",
          "name": "stdout",
          "text": [
            "13:20:45\n"
          ]
        }
      ]
    },
    {
      "cell_type": "code",
      "source": [
        "t2=Time(6,10,34)"
      ],
      "metadata": {
        "id": "gjSk555IDBfB"
      },
      "execution_count": null,
      "outputs": []
    },
    {
      "cell_type": "code",
      "source": [
        "print(t2)"
      ],
      "metadata": {
        "colab": {
          "base_uri": "https://localhost:8080/"
        },
        "id": "J30RiQ4HDF-p",
        "outputId": "292cf430-2085-4694-cb7b-4b0556347912"
      },
      "execution_count": null,
      "outputs": [
        {
          "output_type": "stream",
          "name": "stdout",
          "text": [
            "06:10:34\n"
          ]
        }
      ]
    },
    {
      "cell_type": "code",
      "source": [
        "t3=t1+t2"
      ],
      "metadata": {
        "id": "hNpSL2DfDI7D"
      },
      "execution_count": null,
      "outputs": []
    },
    {
      "cell_type": "code",
      "source": [
        "print(t3)"
      ],
      "metadata": {
        "colab": {
          "base_uri": "https://localhost:8080/"
        },
        "id": "iX4pk5b2DMaw",
        "outputId": "dd00f064-24d5-47b6-8595-7acc985f5d2a"
      },
      "execution_count": null,
      "outputs": [
        {
          "output_type": "stream",
          "name": "stdout",
          "text": [
            "19:31:19\n"
          ]
        }
      ]
    },
    {
      "cell_type": "code",
      "source": [
        "print(Time.__add__(t1,t2))"
      ],
      "metadata": {
        "colab": {
          "base_uri": "https://localhost:8080/"
        },
        "id": "dW67Qj-zDf_t",
        "outputId": "4249c4b4-c0cd-4570-e8bf-e174eed7cc83"
      },
      "execution_count": null,
      "outputs": [
        {
          "output_type": "stream",
          "name": "stdout",
          "text": [
            "19:31:19\n"
          ]
        }
      ]
    },
    {
      "cell_type": "code",
      "source": [
        "print(t1==t2)"
      ],
      "metadata": {
        "colab": {
          "base_uri": "https://localhost:8080/"
        },
        "id": "qFHQUmDlDqes",
        "outputId": "a724f78e-dfa8-4725-904e-85f7becdc38d"
      },
      "execution_count": null,
      "outputs": [
        {
          "output_type": "stream",
          "name": "stdout",
          "text": [
            "False\n"
          ]
        }
      ]
    }
  ]
}